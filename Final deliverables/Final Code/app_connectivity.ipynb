{
  "cells": [
    {
      "cell_type": "code",
      "execution_count": null,
      "metadata": {
        "scrolled": true,
        "id": "JLt6dQsHSCTZ",
        "outputId": "cdd16fbd-f1ca-4880-c497-54adf0008301"
      },
      "outputs": [
        {
          "name": "stderr",
          "output_type": "stream",
          "text": [
            "C:\\ProgramData\\Anaconda3\\lib\\site-packages\\sklearn\\base.py:329: UserWarning: Trying to unpickle estimator DecisionTreeClassifier from version 1.1.0 when using version 1.0.2. This might lead to breaking code or invalid results. Use at your own risk. For more info please refer to:\n",
            "https://scikit-learn.org/stable/modules/model_persistence.html#security-maintainability-limitations\n",
            "  warnings.warn(\n",
            "C:\\ProgramData\\Anaconda3\\lib\\site-packages\\sklearn\\base.py:329: UserWarning: Trying to unpickle estimator RandomForestClassifier from version 1.1.0 when using version 1.0.2. This might lead to breaking code or invalid results. Use at your own risk. For more info please refer to:\n",
            "https://scikit-learn.org/stable/modules/model_persistence.html#security-maintainability-limitations\n",
            "  warnings.warn(\n",
            "C:\\ProgramData\\Anaconda3\\lib\\site-packages\\sklearn\\base.py:329: UserWarning: Trying to unpickle estimator DecisionTreeRegressor from version 1.1.0 when using version 1.0.2. This might lead to breaking code or invalid results. Use at your own risk. For more info please refer to:\n",
            "https://scikit-learn.org/stable/modules/model_persistence.html#security-maintainability-limitations\n",
            "  warnings.warn(\n",
            "C:\\ProgramData\\Anaconda3\\lib\\site-packages\\sklearn\\base.py:329: UserWarning: Trying to unpickle estimator RandomForestRegressor from version 1.1.0 when using version 1.0.2. This might lead to breaking code or invalid results. Use at your own risk. For more info please refer to:\n",
            "https://scikit-learn.org/stable/modules/model_persistence.html#security-maintainability-limitations\n",
            "  warnings.warn(\n"
          ]
        }
      ],
      "source": [
        "import pickle\n",
        "loaded_class = pickle. load(open('randomclass_chronic', 'rb'))\n",
        "loaded_reg = pickle. load(open('randomreg_chronic', 'rb'))"
      ]
    },
    {
      "cell_type": "code",
      "execution_count": null,
      "metadata": {
        "id": "DFpZ7rFiSCUH"
      },
      "outputs": [],
      "source": [
        "import numpy as np"
      ]
    },
    {
      "cell_type": "code",
      "execution_count": null,
      "metadata": {
        "id": "DCAyL_gvSCUM"
      },
      "outputs": [],
      "source": [
        "import pandas as pd"
      ]
    },
    {
      "cell_type": "code",
      "execution_count": null,
      "metadata": {
        "scrolled": true,
        "id": "go-rDstKSCUP",
        "outputId": "825a1341-17cc-493f-a19b-e62b36b0c522"
      },
      "outputs": [
        {
          "name": "stdout",
          "output_type": "stream",
          "text": [
            "mltoken eyJraWQiOiIyMDIyMTExMjA4MjgiLCJhbGciOiJSUzI1NiJ9.eyJpYW1faWQiOiJJQk1pZC02NjEwMDI3Vk9XIiwiaWQiOiJJQk1pZC02NjEwMDI3Vk9XIiwicmVhbG1pZCI6IklCTWlkIiwianRpIjoiMzRlZGUwNGUtYTdmZS00YjY0LTgzZDQtNGJiNmUxZjEwYTA1IiwiaWRlbnRpZmllciI6IjY2MTAwMjdWT1ciLCJnaXZlbl9uYW1lIjoiS2F2aXlhIiwiZmFtaWx5X25hbWUiOiJOYXRyYXlhbiIsIm5hbWUiOiJLYXZpeWEgTmF0cmF5YW4iLCJlbWFpbCI6Imthdml5YTExMDIwMkBnbWFpbC5jb20iLCJzdWIiOiJrYXZpeWExMTAyMDJAZ21haWwuY29tIiwiYXV0aG4iOnsic3ViIjoia2F2aXlhMTEwMjAyQGdtYWlsLmNvbSIsImlhbV9pZCI6IklCTWlkLTY2MTAwMjdWT1ciLCJuYW1lIjoiS2F2aXlhIE5hdHJheWFuIiwiZ2l2ZW5fbmFtZSI6Ikthdml5YSIsImZhbWlseV9uYW1lIjoiTmF0cmF5YW4iLCJlbWFpbCI6Imthdml5YTExMDIwMkBnbWFpbC5jb20ifSwiYWNjb3VudCI6eyJib3VuZGFyeSI6Imdsb2JhbCIsInZhbGlkIjp0cnVlLCJic3MiOiI4MjQ4NmNjNDMxNGE0ODc4YjI4ZTc2NDg4NjRjMThjMCIsImZyb3plbiI6dHJ1ZX0sImlhdCI6MTY2ODc4MTYwOCwiZXhwIjoxNjY4Nzg1MjA4LCJpc3MiOiJodHRwczovL2lhbS5jbG91ZC5pYm0uY29tL2lkZW50aXR5IiwiZ3JhbnRfdHlwZSI6InVybjppYm06cGFyYW1zOm9hdXRoOmdyYW50LXR5cGU6YXBpa2V5Iiwic2NvcGUiOiJpYm0gb3BlbmlkIiwiY2xpZW50X2lkIjoiZGVmYXVsdCIsImFjciI6MSwiYW1yIjpbInB3ZCJdfQ.MbYIAOawCgSeIHI69s2rVnIc49piJVe_bXWJ-aE-DOYs_XTS-P24FvPxH6wsbSSRaxU8rvarmhbDZGMOjgF3kbj7LwJy-rNHfnWxFN3U4lmnXM6fodCP4RVKUEvUNUlBjkPGIXjmnwpV3DC8CI8rHsMw9go_l5lGrenO_W2QHPqZXAlBuz4Ne1Z4qloRcFDJa6qQCMzNp-QElLZCR1tVrRJlyxKXZHJfNZK_sjEbpF5jLO599-ekDNXvAc4b9Jfu7yGn4y49TnnrNeowR2P_Ylh45aME9PBM7TMbcufN50yvfLj0yIPyrNEiR8-hlT7U7LKWwobGyJ7PeWRfl4iqog\n",
            " * Serving Flask app \"__main__\" (lazy loading)\n",
            " * Environment: production\n",
            "\u001b[31m   WARNING: This is a development server. Do not use it in a production deployment.\u001b[0m\n",
            "\u001b[2m   Use a production WSGI server instead.\u001b[0m\n",
            " * Debug mode: off\n"
          ]
        },
        {
          "name": "stderr",
          "output_type": "stream",
          "text": [
            " * Running on http://127.0.0.1:5000/ (Press CTRL+C to quit)\n"
          ]
        }
      ],
      "source": [
        "from flask import Flask, request, redirect, render_template, jsonify\n",
        "import requests\n",
        "import json\n",
        "\n",
        "# NOTE: you must manually set API_KEY below using information retrieved from your IBM Cloud account.\n",
        "API_KEY = \"RlfZtnoH9uVoRIaNZCAV0QXNrfb50Yal6ca53NDToHak\"\n",
        "token_response = requests.post('https://iam.cloud.ibm.com/identity/token', data={\"apikey\":\n",
        " API_KEY, \"grant_type\": 'urn:ibm:params:oauth:grant-type:apikey'})\n",
        "mltoken = token_response.json()[\"access_token\"]\n",
        "print(\"mltoken\",mltoken)\n",
        "\n",
        "header = {'Content-Type': 'application/json', 'Authorization': 'Bearer ' + mltoken}\n",
        "\n",
        "app = Flask(__name__)\n",
        "@app.route(\"/\",methods=['GET', 'POST'])\n",
        "def index():\n",
        "    return render_template('index.html')\n",
        "@app.route(\"/val\",methods=['POST'])\n",
        "\n",
        "def val():\n",
        "    test=[]\n",
        "    if request.method == 'POST':\n",
        "        test.append(request.form.get(\"age\"))\n",
        "        test.append(request.form.get(\"bp\"))\n",
        "        test.append(request.form.get(\"sg\"))\n",
        "        test.append(request.form.get(\"al\"))\n",
        "        test.append(request.form.get(\"su\"))\n",
        "        rb=request.form.get(\"rbc\")\n",
        "        if rb=='abnormal':\n",
        "            test.append(1)\n",
        "        else:\n",
        "            test.append(0)\n",
        "        pc=request.form.get(\"pc\")\n",
        "        if pc=='abnormal':\n",
        "            test.append(1)\n",
        "        else:\n",
        "            test.append(0)\n",
        "        pcc=request.form.get(\"pcc\")\n",
        "        if pcc=='present':\n",
        "            test.append(1)\n",
        "        else:\n",
        "            test.append(0)\n",
        "        ba=request.form.get(\"ba\")\n",
        "        if ba=='present':\n",
        "            test.append(1)\n",
        "        else:\n",
        "            test.append(0)\n",
        "        test.append(request.form.get(\"bgr\"))\n",
        "        test.append(request.form.get(\"bu\"))\n",
        "        test.append(request.form.get(\"sc\"))\n",
        "        test.append(request.form.get(\"sod\"))\n",
        "        test.append(request.form.get(\"pot\"))\n",
        "        test.append(request.form.get(\"hemo\"))\n",
        "        test.append(request.form.get(\"pcv\"))\n",
        "        test.append(request.form.get(\"wc\"))\n",
        "        test.append(request.form.get(\"rc\"))\n",
        "        ht=request.form.get(\"htn\")\n",
        "        if ht=='yes':\n",
        "            test.append(1)\n",
        "        else:\n",
        "            test.append(0)\n",
        "        d=request.form.get(\"dm\")\n",
        "        if d=='yes':\n",
        "            test.append(1)\n",
        "        else:\n",
        "            test.append(0)\n",
        "        ca=request.form.get(\"cad\")\n",
        "        if ca=='yes':\n",
        "            test.append(1)\n",
        "        else:\n",
        "            test.append(0)\n",
        "        ap=request.form.get(\"appet\")\n",
        "        if ap=='good':\n",
        "            test.append(1)\n",
        "        elif ap=='poor':\n",
        "            test.append(0)\n",
        "        else:\n",
        "            test.append(np.nan)\n",
        "        p=request.form.get(\"pe\")\n",
        "        if p=='yes':\n",
        "            test.append(1)\n",
        "        else:\n",
        "            test.append(0)\n",
        "        an=request.form.get(\"ane\")\n",
        "        if an=='yes':\n",
        "            test.append(1)\n",
        "        else:\n",
        "            test.append(0)\n",
        "    print(test)\n",
        "    test_df=pd.DataFrame(test)\n",
        "    test_df=np.array(test_df).reshape(1, -1)\n",
        "    \n",
        "    ans1=loaded_class.predict(test_df)\n",
        "    ans2=loaded_reg.predict(test_df)\n",
        "    if int(ans1)==1:\n",
        "        answer1=\"Sorry to say!! You have CHRONIC DISEASE!!!\"\n",
        "        return render_template('rename.html',answer1=answer1,answer2=ans2)\n",
        "    else:\n",
        "        answer1=\"Happy to say that you don't have CHRONIC DISEASE\"\n",
        "\n",
        "        return render_template('rename2.html',answer1=answer1,answer2=ans2)\n",
        "    \n",
        "if __name__ == \"__main__\":\n",
        "    app.debug=True\n",
        "    app.run(debug=False)"
      ]
    },
    {
      "cell_type": "code",
      "execution_count": null,
      "metadata": {
        "id": "l_q5r9xKSCUc"
      },
      "outputs": [],
      "source": [
        "import requests\n",
        "import json\n",
        "\n",
        "# NOTE: you must manually set API_KEY below using information retrieved from your IBM Cloud account.\n",
        "API_KEY = \"RlfZtnoH9uVoRIaNZCAV0QXNrfb50Yal6ca53NDToHak\"\n",
        "token_response = requests.post('https://iam.cloud.ibm.com/identity/token', data={\"apikey\":\n",
        " API_KEY, \"grant_type\": 'urn:ibm:params:oauth:grant-type:apikey'})\n",
        "mltoken = token_response.json()[\"access_token\"]\n",
        "print(\"mltoken\",mltoken)\n",
        "\n",
        "header = {'Content-Type': 'application/json', 'Authorization': 'Bearer ' + mltoken}\n",
        "\n",
        "# NOTE: manually define and pass the array(s) of values to be scored in the next line\n",
        "payload_scoring = {\"input_data\": [{\"field\": [[\"classification\"]], \n",
        "                                   \"values\": [[1]]}]}\n",
        "\n",
        "response_scoring = requests.post('https://us-south.ml.cloud.ibm.com/ml/v4/deployments/cf82ff26-7e2d-4b9b-8be0-39628c3cc319/predictions?version=2022-11-17', json=payload_scoring,\n",
        " headers={'Authorization': 'Bearer ' + mltoken})\n",
        "print(\"Scoring response\")\n",
        "predictions=response_scoring.json()\n",
        "print(predictions)\n",
        "'''predictions =response_scoring.json()\n",
        "pred=predictions['predictions'][0]['values'][0][0]'''"
      ]
    },
    {
      "cell_type": "code",
      "execution_count": null,
      "metadata": {
        "id": "23xX9F9QSCUe"
      },
      "outputs": [],
      "source": []
    }
  ],
  "metadata": {
    "kernelspec": {
      "display_name": "Python 3 (ipykernel)",
      "language": "python",
      "name": "python3"
    },
    "language_info": {
      "codemirror_mode": {
        "name": "ipython",
        "version": 3
      },
      "file_extension": ".py",
      "mimetype": "text/x-python",
      "name": "python",
      "nbconvert_exporter": "python",
      "pygments_lexer": "ipython3",
      "version": "3.9.13"
    },
    "colab": {
      "provenance": []
    }
  },
  "nbformat": 4,
  "nbformat_minor": 0
}